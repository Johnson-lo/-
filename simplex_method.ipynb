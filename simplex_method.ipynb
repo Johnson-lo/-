{
  "nbformat": 4,
  "nbformat_minor": 0,
  "metadata": {
    "colab": {
      "name": "simplex method.ipynb",
      "provenance": [],
      "authorship_tag": "ABX9TyNUbK7DSiYl+bGyGR8DnNrY",
      "include_colab_link": true
    },
    "kernelspec": {
      "name": "python3",
      "display_name": "Python 3"
    },
    "language_info": {
      "name": "python"
    }
  },
  "cells": [
    {
      "cell_type": "markdown",
      "metadata": {
        "id": "view-in-github",
        "colab_type": "text"
      },
      "source": [
        "<a href=\"https://colab.research.google.com/github/Johnson-lo/-/blob/master/simplex_method.ipynb\" target=\"_parent\"><img src=\"https://colab.research.google.com/assets/colab-badge.svg\" alt=\"Open In Colab\"/></a>"
      ]
    },
    {
      "cell_type": "code",
      "metadata": {
        "colab": {
          "base_uri": "https://localhost:8080/"
        },
        "id": "YIwzFacy-hcE",
        "outputId": "0ef52bbd-361e-4e1b-d016-f25d5cc14990"
      },
      "source": [
        "%pylab inline"
      ],
      "execution_count": 1,
      "outputs": [
        {
          "output_type": "stream",
          "name": "stdout",
          "text": [
            "Populating the interactive namespace from numpy and matplotlib\n"
          ]
        }
      ]
    },
    {
      "cell_type": "code",
      "metadata": {
        "colab": {
          "base_uri": "https://localhost:8080/"
        },
        "id": "hyymBxbPAn1B",
        "outputId": "bb17981f-5198-4b9d-c913-a0936d8df804"
      },
      "source": [
        "import numpy as np\n",
        "z = np.array([8,4])\n",
        "a = np.array([[5,15],[20,5],[15,2]])\n",
        "b = np.array([50,40,60])\n",
        "x1_bound = x2_bound =(0, None)\n",
        "from scipy import optimize\n",
        "res = optimize.linprog(z, A_ub=-a, b_ub=-b,bounds=(x1_bound, x2_bound))\n",
        "print(res)"
      ],
      "execution_count": 3,
      "outputs": [
        {
          "output_type": "stream",
          "name": "stdout",
          "text": [
            "     con: array([], dtype=float64)\n",
            "     fun: 38.139534881226425\n",
            " message: 'Optimization terminated successfully.'\n",
            "     nit: 5\n",
            "   slack: array([ 4.33275460e-09,  4.48837209e+01, -7.26960536e-09])\n",
            "  status: 0\n",
            " success: True\n",
            "       x: array([3.72093023, 2.09302326])\n"
          ]
        },
        {
          "output_type": "stream",
          "name": "stderr",
          "text": [
            "/usr/local/lib/python3.7/dist-packages/numpy/core/fromnumeric.py:87: VisibleDeprecationWarning: Creating an ndarray from ragged nested sequences (which is a list-or-tuple of lists-or-tuples-or ndarrays with different lengths or shapes) is deprecated. If you meant to do this, you must specify 'dtype=object' when creating the ndarray\n",
            "  return ufunc.reduce(obj, axis, dtype, out, **passkwargs)\n"
          ]
        }
      ]
    },
    {
      "cell_type": "code",
      "metadata": {
        "id": "liCnplOIAo3-"
      },
      "source": [
        ""
      ],
      "execution_count": null,
      "outputs": []
    }
  ]
}