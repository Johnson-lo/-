{
  "nbformat": 4,
  "nbformat_minor": 0,
  "metadata": {
    "colab": {
      "name": "108701007_應數三_羅子翔_數值分析第二次作業",
      "provenance": [],
      "include_colab_link": true
    },
    "kernelspec": {
      "name": "python3",
      "display_name": "Python 3"
    },
    "language_info": {
      "name": "python"
    }
  },
  "cells": [
    {
      "cell_type": "markdown",
      "metadata": {
        "id": "view-in-github",
        "colab_type": "text"
      },
      "source": [
        "<a href=\"https://colab.research.google.com/github/Johnson-lo/-/blob/master/108701007_%E6%87%89%E6%95%B8%E4%B8%89_%E7%BE%85%E5%AD%90%E7%BF%94_%E6%95%B8%E5%80%BC%E5%88%86%E6%9E%90%E7%AC%AC%E4%BA%8C%E6%AC%A1%E4%BD%9C%E6%A5%AD.ipynb\" target=\"_parent\"><img src=\"https://colab.research.google.com/assets/colab-badge.svg\" alt=\"Open In Colab\"/></a>"
      ]
    },
    {
      "cell_type": "markdown",
      "source": [
        "# Finite difference method"
      ],
      "metadata": {
        "id": "KyrxsSLezmX4"
      }
    },
    {
      "cell_type": "markdown",
      "source": [
        "$y'' = -y, y(0) = 0, y(\\frac{13}{6}\\pi) = 4$"
      ],
      "metadata": {
        "id": "1JhGeybQzvCe"
      }
    },
    {
      "cell_type": "markdown",
      "source": [
        "$\\frac{1}{h^2} y_{k-1}+(1-\\frac{1}{h^2})y_k+\\frac{1}{h^2}y_{k+1}=0$ for $k = 1, \\dots, n-1$"
      ],
      "metadata": {
        "id": "dYOmsh6s0BHE"
      }
    },
    {
      "cell_type": "markdown",
      "source": [
        "## 1.\tFinite element 與 Shooting method 的計算效率哪一個比較高？為什麼？\n",
        "##Shooting method計算效率較高，因為兩者計算使用finite element的成本遠高於shooting method(大矩陣多數空間浪費在存0，只會有3個值，記憶空間並未有效使用) \n",
        "## 2.\tFinite element 所需要的矩陣空間要如何降低？我們會用什麼方法來減少矩陣的記憶體需求？\n",
        "##承上題，用sparse matrix可以有效解決(每個element 指定A矩陣的位置放入，並無將矩陣打開)，替代一個多數為0的大矩陣，藉此減少記憶體的需求。\n",
        "##3.\t如果用 Finite element 來求解，計算量會隨著矩陣大小放大，這時候我們會用哪一個迭代法來求解呢？可以用此迭代法的條件為何？又 本題的 Finite element 有滿足此方法的要求嗎？\n",
        "##Jocobi method迭代法\n",
        "##條件:Sparse matrix、上對角矩陣、diagonal dominate(對角元素幾乎都各行和各列的絕對值最大的值)\n",
        "##有滿足，使用此法可以又快又準又省記憶體\n"
      ],
      "metadata": {
        "id": "BEJMOR6bfmc0"
      }
    },
    {
      "cell_type": "code",
      "source": [
        "%pylab inline\n",
        "from scipy.linalg import solve\n",
        "import numpy as np"
      ],
      "metadata": {
        "colab": {
          "base_uri": "https://localhost:8080/"
        },
        "id": "io-QWWqI0fks",
        "outputId": "fb3c41db-e10a-41f5-ff30-2198c862cee4"
      },
      "execution_count": 10,
      "outputs": [
        {
          "output_type": "stream",
          "name": "stdout",
          "text": [
            "Populating the interactive namespace from numpy and matplotlib\n"
          ]
        },
        {
          "output_type": "stream",
          "name": "stderr",
          "text": [
            "/usr/local/lib/python3.7/dist-packages/IPython/core/magics/pylab.py:161: UserWarning: pylab import has clobbered these variables: ['solve']\n",
            "`%matplotlib` prevents importing * from pylab and numpy\n",
            "  \"\\n`%matplotlib` prevents importing * from pylab and numpy\"\n"
          ]
        }
      ]
    },
    {
      "cell_type": "code",
      "source": [
        "def jacobi(A,b,x,n):##導入jacobi method\n",
        "  D=np.diag(A)\n",
        "  R=A-np.diagflat(D)\n",
        "  for i in range(n):\n",
        "    x=(b-np.dot(R,x))/D\n",
        "  return x"
      ],
      "metadata": {
        "id": "ICI6LWD4iJPN"
      },
      "execution_count": 11,
      "outputs": []
    },
    {
      "cell_type": "code",
      "execution_count": 21,
      "metadata": {
        "colab": {
          "base_uri": "https://localhost:8080/",
          "height": 320
        },
        "id": "zgiBDGYvzfrt",
        "outputId": "f1d011d9-aaba-4292-9f7a-ee9782cba41c"
      },
      "outputs": [
        {
          "output_type": "stream",
          "name": "stderr",
          "text": [
            "/usr/local/lib/python3.7/dist-packages/ipykernel_launcher.py:28: VisibleDeprecationWarning: Creating an ndarray from ragged nested sequences (which is a list-or-tuple of lists-or-tuples-or ndarrays with different lengths or shapes) is deprecated. If you meant to do this, you must specify 'dtype=object' when creating the ndarray.\n"
          ]
        },
        {
          "output_type": "execute_result",
          "data": {
            "text/plain": [
              "[<matplotlib.lines.Line2D at 0x7f47474242d0>]"
            ]
          },
          "metadata": {},
          "execution_count": 21
        },
        {
          "output_type": "display_data",
          "data": {
            "text/plain": [
              "<Figure size 432x288 with 1 Axes>"
            ],
            "image/png": "[encoded data removed]"
          },
          "metadata": {
            "needs_background": "light"
          }
        }
      ],
      "source": [
        "a = 0\n",
        "b = 13*pi/6\n",
        "n = 8\n",
        "x=[1.0,1.0,1.0,1.0,1.0,1.0,1.0]\n",
        "t = linspace(a,b,n+1)\n",
        "h = (b-a)/n\n",
        "A = mat(zeros([n-1,n-1]))\n",
        "b = mat(zeros([n-1,1]))\n",
        "guess = array([1.0,1.0])\n",
        "#first row\n",
        "A[0,0] = 1-2/h**2\n",
        "A[0,1] = 1/h**2\n",
        "#last row\n",
        "b[n-2,0] = -4/h**2\n",
        "A[n-2,n-3] = 1/h**2\n",
        "A[n-2,n-2] = 1-2/h**2\n",
        "\n",
        "for i in range(1,n-2):\n",
        "  A[i,i-1] = 1/h**2\n",
        "  A[i,i] = 1-2/h**2\n",
        "  A[i,i+1] = 1/h**2\n",
        "\n",
        "x = jacobi(A,b,x,n)\n",
        "y=solve(A,b)\n",
        "y = list(y)\n",
        "y.append(4)\n",
        "y = [0]+y\n",
        "y = array(y)\n",
        "\n",
        "plot(t,y)"
      ]
    },
    {
      "cell_type": "markdown",
      "source": [
        "True solution $y(t) = 8sin(t)$"
      ],
      "metadata": {
        "id": "QrGytiQV5zBK"
      }
    },
    {
      "cell_type": "code",
      "source": [
        "yt = 8*sin(t)"
      ],
      "metadata": {
        "id": "5hX208eP0re2"
      },
      "execution_count": 22,
      "outputs": []
    },
    {
      "cell_type": "code",
      "source": [
        "plot(t,abs(y-yt))"
      ],
      "metadata": {
        "colab": {
          "base_uri": "https://localhost:8080/",
          "height": 284
        },
        "id": "fXZHvaHB0tGh",
        "outputId": "f77b94c1-f0dd-4303-dbcd-b0f8e551ca45"
      },
      "execution_count": 23,
      "outputs": [
        {
          "output_type": "execute_result",
          "data": {
            "text/plain": [
              "[<matplotlib.lines.Line2D at 0x7f475a8ee790>]"
            ]
          },
          "metadata": {},
          "execution_count": 23
        },
        {
          "output_type": "display_data",
          "data": {
            "text/plain": [
              "<Figure size 432x288 with 1 Axes>"
            ],
            "image/png": "[encoded data removed]"
          },
          "metadata": {
            "needs_background": "light"
          }
        }
      ]
    },
    {
      "cell_type": "code",
      "source": [
        "plot(x)"
      ],
      "metadata": {
        "colab": {
          "base_uri": "https://localhost:8080/",
          "height": 386
        },
        "id": "TPUcar2U31ec",
        "outputId": "824a363e-f046-49dc-b915-75d77db1e243"
      },
      "execution_count": 24,
      "outputs": [
        {
          "output_type": "execute_result",
          "data": {
            "text/plain": [
              "[<matplotlib.lines.Line2D at 0x7f474736ec10>,\n",
              " <matplotlib.lines.Line2D at 0x7f4747387790>,\n",
              " <matplotlib.lines.Line2D at 0x7f4747387950>,\n",
              " <matplotlib.lines.Line2D at 0x7f4747387b10>,\n",
              " <matplotlib.lines.Line2D at 0x7f4747387cd0>,\n",
              " <matplotlib.lines.Line2D at 0x7f4747387e90>,\n",
              " <matplotlib.lines.Line2D at 0x7f474738d110>]"
            ]
          },
          "metadata": {},
          "execution_count": 24
        },
        {
          "output_type": "display_data",
          "data": {
            "text/plain": [
              "<Figure size 432x288 with 1 Axes>"
            ],
            "image/png": "[encoded data removed]"
          },
          "metadata": {
            "needs_background": "light"
          }
        }
      ]
    },
    {
      "cell_type": "code",
      "source": [
        "x"
      ],
      "metadata": {
        "id": "tlq2OuIB0vPI",
        "colab": {
          "base_uri": "https://localhost:8080/"
        },
        "outputId": "60df460f-c44e-4387-a7be-eebe28871fe0"
      },
      "execution_count": 25,
      "outputs": [
        {
          "output_type": "execute_result",
          "data": {
            "text/plain": [
              "matrix([[ 5.56238885, 10.39872543, 10.39872543, 10.39872543, 10.39872543,\n",
              "         10.39872543,  5.56238885],\n",
              "        [14.01304236, 23.68571551, 23.68571551, 23.68571551, 23.68571551,\n",
              "         23.68571551, 14.01304236],\n",
              "        [16.47661498, 28.14072083, 28.14072083, 28.14072083, 28.14072083,\n",
              "         28.14072083, 16.47661498],\n",
              "        [26.83582396, 40.49136253, 40.49136253, 40.49136253, 40.49136253,\n",
              "         40.49136253, 26.83582396],\n",
              "        [23.67040092, 35.33450678, 35.33450678, 35.33450678, 35.33450678,\n",
              "         35.33450678, 23.67040092],\n",
              "        [27.74457424, 37.41724739, 37.41724739, 37.41724739, 37.41724739,\n",
              "         37.41724739, 27.74457424],\n",
              "        [15.89082938, 20.72716596, 20.72716596, 20.72716596, 20.72716596,\n",
              "         20.72716596, 15.89082938]])"
            ]
          },
          "metadata": {},
          "execution_count": 25
        }
      ]
    },
    {
      "cell_type": "code",
      "source": [
        "13*pi/6"
      ],
      "metadata": {
        "colab": {
          "base_uri": "https://localhost:8080/"
        },
        "id": "inFODYTx0wp0",
        "outputId": "5a7651a9-c220-41d8-cbc2-a5d804299632"
      },
      "execution_count": 26,
      "outputs": [
        {
          "output_type": "execute_result",
          "data": {
            "text/plain": [
              "6.806784082777885"
            ]
          },
          "metadata": {},
          "execution_count": 26
        }
      ]
    },
    {
      "cell_type": "code",
      "source": [
        ""
      ],
      "metadata": {
        "id": "-ePH1mjW0_J9"
      },
      "execution_count": null,
      "outputs": []
    }
  ]
}