{
  "nbformat": 4,
  "nbformat_minor": 0,
  "metadata": {
    "colab": {
      "name": "Steepest descent method_108701007_應數三_羅子翔ipynb",
      "provenance": [],
      "include_colab_link": true
    },
    "kernelspec": {
      "name": "python3",
      "display_name": "Python 3"
    },
    "language_info": {
      "name": "python"
    }
  },
  "cells": [
    {
      "cell_type": "markdown",
      "metadata": {
        "id": "view-in-github",
        "colab_type": "text"
      },
      "source": [
        "<a href=\"https://colab.research.google.com/github/Johnson-lo/-/blob/master/Steepest_descent_method_108701007_%E6%87%89%E6%95%B8%E4%B8%89_%E7%BE%85%E5%AD%90%E7%BF%94ipynb.ipynb\" target=\"_parent\"><img src=\"https://colab.research.google.com/assets/colab-badge.svg\" alt=\"Open In Colab\"/></a>"
      ]
    },
    {
      "cell_type": "markdown",
      "metadata": {
        "id": "0G53zpFhHHhh"
      },
      "source": [
        "# Steepest descent method"
      ]
    },
    {
      "cell_type": "code",
      "metadata": {
        "colab": {
          "base_uri": "https://localhost:8080/"
        },
        "id": "RFRppw4n_JH8",
        "outputId": "07c7a761-9f41-4fd6-8a80-3e260da80fb8"
      },
      "source": [
        "##導入套件\n",
        "%pylab inline\n",
        "import numpy as np"
      ],
      "execution_count": 1,
      "outputs": [
        {
          "output_type": "stream",
          "name": "stdout",
          "text": [
            "Populating the interactive namespace from numpy and matplotlib\n"
          ]
        }
      ]
    },
    {
      "cell_type": "markdown",
      "metadata": {
        "id": "ZFqyi_GoHZL-"
      },
      "source": [
        "Find the minimal of J(x), where\n",
        "$J(x) = (Ax-b).T*(Ax-b)\n",
        "$\n",
        "\n"
      ]
    },
    {
      "cell_type": "code",
      "metadata": {
        "id": "lDxzYE-mHKRl"
      },
      "source": [
        "##定義函數\n",
        "def J(A,b,x):\n",
        "    return ((np.dot(A,x)-b).T*(np.dot(A,x)-b))\n",
        "def dJ(A,b,x):\n",
        "    return (2*(np.dot(A.T,np.dot(A,x))-np.dot(A.T,b)))\n",
        "def Grain_J(A,b,x):\n",
        "  t=dJ(A,b,x)\n",
        "  return t\n",
        "\n"
      ],
      "execution_count": 2,
      "outputs": []
    },
    {
      "cell_type": "code",
      "metadata": {
        "id": "tNq2f2DhH4-r",
        "colab": {
          "base_uri": "https://localhost:8080/"
        },
        "outputId": "6ce34513-1765-416e-85bc-a58a99039cab"
      },
      "source": [
        "# 隨機造A,x\n",
        "\n",
        "A=mat(randn(10,10))\n",
        "x=mat(randn(10,1))\n",
        "x0=x-1\n",
        "b=A*x\n",
        "# Code of Steepest descent\n",
        "\n",
        "h = 1\n",
        "tol = 10**(-10)\n",
        "precision = 10**(-15)\n",
        "Max_Itr = 300\n",
        "\n",
        "v = Grain_J(A,b,x0)\n",
        "n = norm(v)\n",
        "x1 = x0 - h/n*v\n",
        "R = list()\n",
        "R.append(float(J(A,b,x1)))\n",
        "\n",
        "i = 0\n",
        "while n>tol and (i<Max_Itr): \n",
        "  i+=1\n",
        "  x0 = x1\n",
        "  v = Grain_J(A,b,x0)\n",
        "  n = norm(v)\n",
        "  x1 = x0 - h/n*v\n",
        "  h = 0.1\n",
        "  R.append(float(J(A,b,x1)))\n",
        "print(x1)"
      ],
      "execution_count": 7,
      "outputs": [
        {
          "output_type": "stream",
          "name": "stdout",
          "text": [
            "[[ 0.4215834 ]\n",
            " [ 1.48765966]\n",
            " [-0.33519669]\n",
            " [-0.89303877]\n",
            " [-1.24036733]\n",
            " [-0.64708343]\n",
            " [ 0.60672961]\n",
            " [ 2.1628098 ]\n",
            " [-0.03392563]\n",
            " [ 0.92584534]]\n"
          ]
        }
      ]
    },
    {
      "cell_type": "code",
      "metadata": {
        "id": "VYSIA2YMMU_H",
        "colab": {
          "base_uri": "https://localhost:8080/",
          "height": 282
        },
        "outputId": "8f273c45-5447-475b-d5d6-d9fdeff14396"
      },
      "source": [
        "plot(R)"
      ],
      "execution_count": 4,
      "outputs": [
        {
          "output_type": "execute_result",
          "data": {
            "text/plain": [
              "[<matplotlib.lines.Line2D at 0x7fb616464c90>]"
            ]
          },
          "metadata": {},
          "execution_count": 4
        },
        {
          "output_type": "display_data",
          "data": {
            "image/png": "[encoded data removed]",
            "text/plain": [
              "<Figure size 432x288 with 1 Axes>"
            ]
          },
          "metadata": {
            "needs_background": "light"
          }
        }
      ]
    },
    {
      "cell_type": "code",
      "metadata": {
        "id": "o_-dksBfQKvt",
        "colab": {
          "base_uri": "https://localhost:8080/"
        },
        "outputId": "c86a280b-9804-4ae4-faa3-593b16123779"
      },
      "source": [
        "R"
      ],
      "execution_count": 5,
      "outputs": [
        {
          "output_type": "execute_result",
          "data": {
            "text/plain": [
              "[29.93118242732858,\n",
              " 12.024435897881403,\n",
              " 10.420762552327984,\n",
              " 9.014488508985908,\n",
              " 7.764704819361343,\n",
              " 6.6415852504126605,\n",
              " 5.626969507216019,\n",
              " 4.711095592760385,\n",
              " 3.8887354973186805,\n",
              " 3.156572746128387,\n",
              " 2.51188696030683,\n",
              " 1.9520209051909854,\n",
              " 1.4741882893970786,\n",
              " 1.0753792110920093,\n",
              " 0.7522476834091052,\n",
              " 0.5008988405883792,\n",
              " 0.3164263398888034,\n",
              " 0.19180606191856164,\n",
              " 0.11523147788855934,\n",
              " 0.06732690416870452,\n",
              " 0.03398325961242599,\n",
              " 0.012772344330344722,\n",
              " 0.02426895115621215,\n",
              " 0.1284041185827606,\n",
              " 0.025617991901255435,\n",
              " 0.1272824099472944,\n",
              " 0.02541904756056761,\n",
              " 0.1268680683410033,\n",
              " 0.025266850950160225,\n",
              " 0.12654768023658836,\n",
              " 0.02514089402503165,\n",
              " 0.12627781033075344,\n",
              " 0.025033370929384447,\n",
              " 0.1260461002845377,\n",
              " 0.02494039541269197,\n",
              " 0.1258449594491287,\n",
              " 0.024859196253778942,\n",
              " 0.12566864333510125,\n",
              " 0.02478761068284114,\n",
              " 0.12551262645827851,\n",
              " 0.02472392082702385,\n",
              " 0.1253733122260596,\n",
              " 0.02466675594658903,\n",
              " 0.12524783255443347,\n",
              " 0.024615019655704,\n",
              " 0.1251338945031905,\n",
              " 0.02456783308239636,\n",
              " 0.12502966026372664,\n",
              " 0.024524490020063225,\n",
              " 0.12493365269838404,\n",
              " 0.024484421444997222,\n",
              " 0.12484468082158123,\n",
              " 0.02444716741470195,\n",
              " 0.12476178093408277,\n",
              " 0.02441235479807406,\n",
              " 0.12468417007599457,\n",
              " 0.02437967961877338,\n",
              " 0.12461120919002996,\n",
              " 0.024348893050193658,\n",
              " 0.12454237394809503,\n",
              " 0.0243197903022929,\n",
              " 0.12447723163145434,\n",
              " 0.024292201799506606,\n",
              " 0.12441542279665085,\n",
              " 0.024265986174392417,\n",
              " 0.12435664672732573,\n",
              " 0.024241024700703107,\n",
              " 0.12430064988268974,\n",
              " 0.02421721686787859,\n",
              " 0.12424721671907497,\n",
              " 0.02419447686087703,\n",
              " 0.12419616239159897,\n",
              " 0.024172730758263705,\n",
              " 0.12414732694596983,\n",
              " 0.024151914300278982,\n",
              " 0.12410057069181431,\n",
              " 0.024131971109325936,\n",
              " 0.12405577051317589,\n",
              " 0.02411285126966651,\n",
              " 0.12401281692265248,\n",
              " 0.02409451019239447,\n",
              " 0.12397161170584682,\n",
              " 0.024076907707048036,\n",
              " 0.12393206603461504,\n",
              " 0.024060007333341352,\n",
              " 0.12389409895278923,\n",
              " 0.024043775696100368,\n",
              " 0.12385763615800305,\n",
              " 0.024028182054111773,\n",
              " 0.12382260901904273,\n",
              " 0.0240131979196326,\n",
              " 0.12378895378067373,\n",
              " 0.023998796750106268,\n",
              " 0.12375661091781631,\n",
              " 0.023984953697425853,\n",
              " 0.12372552460880773,\n",
              " 0.023971645403110108,\n",
              " 0.12369564230371742,\n",
              " 0.02395884983014409,\n",
              " 0.12366691436864981,\n",
              " 0.02394654612414088,\n",
              " 0.12363929379085986,\n",
              " 0.023934714497984982,\n",
              " 0.12361273593264203,\n",
              " 0.02392333613531449,\n",
              " 0.1235871983244152,\n",
              " 0.02391239310915295,\n",
              " 0.12356264048937475,\n",
              " 0.023901868312748143,\n",
              " 0.12353902379365084,\n",
              " 0.02389174540028191,\n",
              " 0.12351631131714141,\n",
              " 0.023882008735586595,\n",
              " 0.1234944677411599,\n",
              " 0.023872643347377407,\n",
              " 0.12347345924983169,\n",
              " 0.023863634889820254,\n",
              " 0.12345325344277472,\n",
              " 0.023854969607483182,\n",
              " 0.12343381925710226,\n",
              " 0.023846634303912102,\n",
              " 0.12341512689717586,\n",
              " 0.023838616313226785,\n",
              " 0.12339714777083333,\n",
              " 0.02383090347424315,\n",
              " 0.12337985443108812,\n",
              " 0.023823484106736348,\n",
              " 0.12336322052246547,\n",
              " 0.023816346989519257,\n",
              " 0.12334722073132182,\n",
              " 0.02380948134008841,\n",
              " 0.12333183073960005,\n",
              " 0.02380287679562217,\n",
              " 0.12331702718158728,\n",
              " 0.023796523395165033,\n",
              " 0.12330278760331102,\n",
              " 0.023790411562858906,\n",
              " 0.12328909042427702,\n",
              " 0.023784532092104613,\n",
              " 0.12327591490130606,\n",
              " 0.02377887613056096,\n",
              " 0.12326324109426309,\n",
              " 0.023773435165902596,\n",
              " 0.12325104983350851,\n",
              " 0.02376820101226586,\n",
              " 0.12323932268892311,\n",
              " 0.023763165797332852,\n",
              " 0.12322804194039035,\n",
              " 0.02375832195000122,\n",
              " 0.12321719054961891,\n",
              " 0.023753662188598503,\n",
              " 0.123206752133225,\n",
              " 0.02374917950960775,\n",
              " 0.12319671093698327,\n",
              " 0.023744867176870972,\n",
              " 0.12318705181118403,\n",
              " 0.023740718711241386,\n",
              " 0.12317776018702621,\n",
              " 0.023736727880664638,\n",
              " 0.12316882205399537,\n",
              " 0.023732888690659367,\n",
              " 0.12316022393816894,\n",
              " 0.023729195375183764,\n",
              " 0.12315195288141158,\n",
              " 0.02372564238786453,\n",
              " 0.12314399642140339,\n",
              " 0.023722224393574607,\n",
              " 0.1231363425724775,\n",
              " 0.023718936260342043,\n",
              " 0.12312897980721771,\n",
              " 0.023715773051575736,\n",
              " 0.12312189703878769,\n",
              " 0.023712730018594395,\n",
              " 0.12311508360396138,\n",
              " 0.023709802593446766,\n",
              " 0.12310852924681737,\n",
              " 0.023706986382008882,\n",
              " 0.12310222410307586,\n",
              " 0.023704277157349234,\n",
              " 0.12309615868505012,\n",
              " 0.023701670853349337,\n",
              " 0.12309032386718359,\n",
              " 0.023699163558570383,\n",
              " 0.12308471087215032,\n",
              " 0.02369675151035463,\n",
              " 0.12307931125749798,\n",
              " 0.02369443108915568,\n",
              " 0.12307411690280828,\n",
              " 0.023692198813082724,\n",
              " 0.123069119997356,\n",
              " 0.02369005133265811,\n",
              " 0.1230643130282454,\n",
              " 0.02368798542577167,\n",
              " 0.12305968876900591,\n",
              " 0.023685997992830367,\n",
              " 0.12305524026862837,\n",
              " 0.023684086052092643,\n",
              " 0.12305096084102582,\n",
              " 0.02368224673518216,\n",
              " 0.12304684405489831,\n",
              " 0.02368047728277151,\n",
              " 0.12304288372399162,\n",
              " 0.02367877504043086,\n",
              " 0.12303907389772753,\n",
              " 0.023677137454636718,\n",
              " 0.12303540885219726,\n",
              " 0.023675562068930605,\n",
              " 0.12303188308150302,\n",
              " 0.023674046520226824,\n",
              " 0.12302849128942552,\n",
              " 0.023672588535258592,\n",
              " 0.12302522838142163,\n",
              " 0.023671185927161827,\n",
              " 0.12302208945692066,\n",
              " 0.023669836592187073,\n",
              " 0.12301906980192084,\n",
              " 0.023668538506538977,\n",
              " 0.12301616488186912,\n",
              " 0.023667289723334137,\n",
              " 0.12301337033481409,\n",
              " 0.023666088369677155,\n",
              " 0.12301068196481849,\n",
              " 0.023664932643844915,\n",
              " 0.12300809573563155,\n",
              " 0.02366382081258142,\n",
              " 0.12300560776459499,\n",
              " 0.02366275120849364,\n",
              " 0.12300321431678822,\n",
              " 0.02366172222754721,\n",
              " 0.12300091179939487,\n",
              " 0.02366073232665717,\n",
              " 0.12299869675628755,\n",
              " 0.023659780021370553,\n",
              " 0.12299656586281588,\n",
              " 0.02365886388363768,\n",
              " 0.12299451592079817,\n",
              " 0.02365798253966745,\n",
              " 0.122992543853702,\n",
              " 0.02365713466786503,\n",
              " 0.12299064670200847,\n",
              " 0.023656318996847215,\n",
              " 0.12298882161875688,\n",
              " 0.023655534303533697,\n",
              " 0.12298706586525532,\n",
              " 0.023654779411311912,\n",
              " 0.12298537680695905,\n",
              " 0.02365405318826964,\n",
              " 0.12298375190950464,\n",
              " 0.02365335454549693,\n",
              " 0.12298218873489375,\n",
              " 0.023652682435451402,\n",
              " 0.12298068493782556,\n",
              " 0.02365203585038564,\n",
              " 0.12297923826216799,\n",
              " 0.02365141382083595,\n",
              " 0.12297784653756291,\n",
              " 0.023650815414165898,\n",
              " 0.12297650767616213,\n",
              " 0.023650239733168096,\n",
              " 0.12297521966948728,\n",
              " 0.023649685914717153,\n",
              " 0.12297398058540801,\n",
              " 0.023649153128475063,\n",
              " 0.12297278856523898,\n",
              " 0.023648640575644794,\n",
              " 0.12297164182094324,\n",
              " 0.023648147487772265,\n",
              " 0.122970538632446,\n",
              " 0.023647673125593106,\n",
              " 0.12296947734504819,\n",
              " 0.023647216777923388,\n",
              " 0.12296845636694025,\n",
              " 0.023646777760593405,\n",
              " 0.12296747416681009,\n",
              " 0.02364635541542043,\n",
              " 0.12296652927154003,\n",
              " 0.023645949109222332,\n",
              " 0.12296562026399588,\n",
              " 0.02364555823286642,\n",
              " 0.12296474578089653,\n",
              " 0.023645182200357134,\n",
              " 0.12296390451076716,\n",
              " 0.023644820447956117,\n",
              " 0.12296309519196769,\n",
              " 0.023644472433336994,\n",
              " 0.12296231661079904,\n",
              " 0.023644137634771936,\n",
              " 0.1229615675996803,\n",
              " 0.023643815550349133,\n",
              " 0.12296084703539356,\n",
              " 0.023643505697219656,\n",
              " 0.12296015383739863,\n",
              " 0.023643207610873896,\n",
              " 0.12295948696621259,\n",
              " 0.02364292084444421,\n",
              " 0.12295884542184433,\n",
              " 0.02364264496803547,\n",
              " 0.12295822824229716,\n",
              " 0.02364237956808004,\n",
              " 0.12295763450212226,\n",
              " 0.023642124246717054]"
            ]
          },
          "metadata": {},
          "execution_count": 5
        }
      ]
    },
    {
      "cell_type": "code",
      "metadata": {
        "colab": {
          "base_uri": "https://localhost:8080/"
        },
        "id": "5tcux4t7R0mQ",
        "outputId": "e74643f0-0eec-4e7a-84bb-d80ef3b9c65e"
      },
      "source": [
        "J(A,b,x)"
      ],
      "execution_count": 6,
      "outputs": [
        {
          "output_type": "execute_result",
          "data": {
            "text/plain": [
              "matrix([[0.]])"
            ]
          },
          "metadata": {},
          "execution_count": 6
        }
      ]
    },
    {
      "cell_type": "code",
      "metadata": {
        "colab": {
          "base_uri": "https://localhost:8080/"
        },
        "id": "sC3UsG1ZR6Db",
        "outputId": "d44275be-5a32-4a34-d260-27b40f9efabb"
      },
      "source": [
        ""
      ],
      "execution_count": 8,
      "outputs": [
        {
          "output_type": "execute_result",
          "data": {
            "text/plain": [
              "0.5703053693176536"
            ]
          },
          "metadata": {},
          "execution_count": 8
        }
      ]
    },
    {
      "cell_type": "code",
      "metadata": {
        "id": "tnnb637ASz5L"
      },
      "source": [
        "\n",
        "\n"
      ],
      "execution_count": null,
      "outputs": []
    }
  ]
}